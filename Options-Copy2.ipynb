{
 "cells": [
  {
   "cell_type": "code",
   "execution_count": 48,
   "metadata": {},
   "outputs": [
    {
     "name": "stdout",
     "output_type": "stream",
     "text": [
      "2\n"
     ]
    }
   ],
   "source": [
    "import pandas as pd\n",
    "import requests\n",
    "import json\n",
    "import numpy as np\n",
    "from datetime import date\n",
    "from pandas.tseries.offsets import BDay\n",
    "import requests\n",
    "import lxml.html as lh\n",
    "import pandas as pd\n",
    "import os\n",
    "import datetime as dt\n",
    "\n",
    "def b3sa_Options(token):\n",
    "    r = requests.get(token)\n",
    "    vJson = json.loads(r.content)\n",
    "    vJson['token']\n",
    "    optionList = 'https://arquivos.b3.com.br/api/download/?token={}'.format(vJson['token'])\n",
    "    r1 = requests.get(optionList)\n",
    "    data = r1.content.decode(\"ISO-8859-1\").splitlines()\n",
    "    df = pd.DataFrame(data) \n",
    "    df.dropna(inplace = True) \n",
    "    df = pd.DataFrame(df.applymap(str))\n",
    "    df = df[0].str.split(\";\", n = 100, expand = True)\n",
    "    df.columns = df.iloc[0]\n",
    "    df = df[1:]\n",
    "    df = df.reset_index()\n",
    "    df.drop(\"index\", axis = 1, inplace=True)\n",
    "    return df\n",
    "\n",
    "if dt.datetime.fromtimestamp(os.path.getctime(\"b3.csv\")).strftime(\"%Y-%m-%d\") != date.today().strftime(\"%Y-%m-%d\"):\n",
    "    token = 'https://arquivos.b3.com.br/api/download/requestname?fileName=InstrumentsConsolidated&date={}&recaptchaToken='.format(date.today().strftime(\"%Y-%m-%d\"))\n",
    "    df=b3sa_Options(token)\n",
    "    df2 = df[[\"TckrSymb\", \"Asst\", \"SgmtNm\", \"SctyCtgyNm\", \"XprtnDt\", \"TradgEndDt\", \"OptnTp\", \"ExrcPric\", \"OptnStyle\"]]\n",
    "    df2 = df2[df2['SctyCtgyNm']=='OPTION ON EQUITIES']\n",
    "    df2['ExrcPric'] = [x.replace(',', '.') for x in df2['ExrcPric']]\n",
    "    df2['ExrcPric'] = df2['ExrcPric'].astype(float)\n",
    "\n",
    "    lastBD = pd.datetime.today() - BDay(1)\n",
    "    lastBD = lastBD.strftime(\"%Y-%m-%d\")\n",
    "    token = 'https://arquivos.b3.com.br/api/download/requestname?fileName=TradeInformationConsolidated&date={}'.format(lastBD)\n",
    "    df_trade=b3sa_Options(token)\n",
    "\n",
    "    df_trade = df_trade[(df_trade['SgmtNm']=='EQUITY PUT') | (df_trade['SgmtNm']=='EQUITY CALL')]\n",
    "    df_trade=df_trade[(df_trade['TradQty']!='')]\n",
    "    df_trade[\"Strike\"]=0.0\n",
    "    df_trade[\"Ticker\"]=\"\"\n",
    "    df_trade[\"Validade\"]=\"\"\n",
    "    df_trade[\"Tipo\"]=\"\"\n",
    "    df_trade[\"Price\"] = 0.0\n",
    "\n",
    "    for i in df_trade.TckrSymb:\n",
    "        try:\n",
    "            df_trade.loc[df_trade.loc[df_trade['TckrSymb']==i].index.values[0],'Strike'] = df2.loc[df2[\"TckrSymb\"]==i].ExrcPric.values[0]\n",
    "            df_trade.loc[df_trade.loc[df_trade['TckrSymb']==i].index.values[0],'Ticker'] = df2.loc[df2[\"TckrSymb\"]==i].Asst.values[0]\n",
    "            df_trade.loc[df_trade.loc[df_trade['TckrSymb']==i].index.values[0],'Validade'] = df2.loc[df2[\"TckrSymb\"]==i].XprtnDt.values[0]\n",
    "            df_trade.loc[df_trade.loc[df_trade['TckrSymb']==i].index.values[0],'Tipo'] = df2.loc[df2[\"TckrSymb\"]==i].OptnStyle.values[0]\n",
    "        except:\n",
    "            pass\n",
    "    if df_trade.shape[0] > 100:\n",
    "        df_trade.to_csv(\"b3.csv\",index=False)\n",
    "        print(1)\n",
    "elif dt.datetime.fromtimestamp(os.path.getctime(\"b3.csv\")).strftime(\"%Y-%m-%d\") == date.today().strftime(\"%Y-%m-%d\"):\n",
    "    df_trade=pd.read_csv(\"b3.csv\")\n",
    "    print(2)\n",
    "else:\n",
    "    print(\"Error, dataset not loaded as expected\")\n"
   ]
  },
  {
   "cell_type": "code",
   "execution_count": 50,
   "metadata": {},
   "outputs": [],
   "source": [
    "url=\"https://www.iqb3.com.br/iq/Todas\"\n",
    "#Create a handle, page, to handle the contents of the website\n",
    "page = requests.get(url)\n",
    "#Store the contents of the website under doc\n",
    "doc = lh.fromstring(page.content)\n",
    "#Parse data that are stored between <tr>..</tr> of HTML\n",
    "tr_elements = doc.xpath('//tr')\n",
    "tr_elements=tr_elements[1:]\n",
    "#Create empty list\n",
    "col=[]\n",
    "i=0\n",
    "#For each row, store each first element (header) and an empty list\n",
    "for t in tr_elements[0]:\n",
    "    i+=1\n",
    "    name=t.text_content()\n",
    "    col.append((name,[]))\n",
    "    \n",
    "    \n",
    "#Since out first row is the header, data is stored on the second row onwards\n",
    "for j in range(1,len(tr_elements)):\n",
    "    #T is our j'th row\n",
    "    T=tr_elements[j]\n",
    "    \n",
    "    #If row is not of size 10, the //tr data is not from our table \n",
    "    if len(T)!=13:\n",
    "        break\n",
    "    \n",
    "    #i is the index of our column\n",
    "    i=0\n",
    "    \n",
    "    #Iterate through each element of the row\n",
    "    for t in T.iterchildren():\n",
    "        data=t.text_content() \n",
    "        #Check if row is empty\n",
    "        if i>0:\n",
    "        #Convert any numerical value to integers\n",
    "            try:\n",
    "                data=int(data)\n",
    "            except:\n",
    "                pass\n",
    "        #Append the data to the empty list of the i'th column\n",
    "        col[i][1].append(data)\n",
    "        #Increment i for the next column\n",
    "        i+=1\n",
    "\n",
    "Dict={title:column for (title,column) in col}\n",
    "df_iq=pd.DataFrame(Dict)"
   ]
  },
  {
   "cell_type": "code",
   "execution_count": 56,
   "metadata": {},
   "outputs": [
    {
     "data": {
      "text/html": [
       "<div>\n",
       "<style scoped>\n",
       "    .dataframe tbody tr th:only-of-type {\n",
       "        vertical-align: middle;\n",
       "    }\n",
       "\n",
       "    .dataframe tbody tr th {\n",
       "        vertical-align: top;\n",
       "    }\n",
       "\n",
       "    .dataframe thead th {\n",
       "        text-align: right;\n",
       "    }\n",
       "</style>\n",
       "<table border=\"1\" class=\"dataframe\">\n",
       "  <thead>\n",
       "    <tr style=\"text-align: right;\">\n",
       "      <th></th>\n",
       "      <th>0</th>\n",
       "      <th>Atual</th>\n",
       "    </tr>\n",
       "  </thead>\n",
       "  <tbody>\n",
       "    <tr>\n",
       "      <td>0</td>\n",
       "      <td>PETR4</td>\n",
       "      <td>22.89</td>\n",
       "    </tr>\n",
       "    <tr>\n",
       "      <td>1</td>\n",
       "      <td>VALE3</td>\n",
       "      <td>58.59</td>\n",
       "    </tr>\n",
       "  </tbody>\n",
       "</table>\n",
       "</div>"
      ],
      "text/plain": [
       "       0  Atual\n",
       "0  PETR4  22.89\n",
       "1  VALE3  58.59"
      ]
     },
     "execution_count": 56,
     "metadata": {},
     "output_type": "execute_result"
    }
   ],
   "source": [
    "vTopacoes"
   ]
  },
  {
   "cell_type": "code",
   "execution_count": 57,
   "metadata": {},
   "outputs": [
    {
     "name": "stderr",
     "output_type": "stream",
     "text": [
      "C:\\Users\\kiyo_\\Anaconda3\\lib\\site-packages\\pandas\\core\\indexing.py:494: SettingWithCopyWarning: \n",
      "A value is trying to be set on a copy of a slice from a DataFrame.\n",
      "Try using .loc[row_indexer,col_indexer] = value instead\n",
      "\n",
      "See the caveats in the documentation: http://pandas.pydata.org/pandas-docs/stable/user_guide/indexing.html#returning-a-view-versus-a-copy\n",
      "  self.obj[item] = s\n"
     ]
    }
   ],
   "source": [
    "vTopacoes = pd.read_excel(r\"C:\\Users\\kiyo_\\Desktop\\projects\\options\\Cotacao.xlsm\")\n",
    "for i in df_trade.Ticker:\n",
    "    try:\n",
    "        df_trade.loc[df_trade.loc[df_trade['Ticker']==i].index.values,'Price'] = vTopacoes.loc[vTopacoes[0]==i].Atual.values[0]\n",
    "    except:\n",
    "        pass\n",
    "\n",
    "df_trade = df_trade[df_trade[\"Price\"]!=0.0]\n",
    "df_Call = df_trade[df_trade[\"SgmtNm\"]==\"EQUITY CALL\"]\n",
    "df_Put = df_trade[df_trade[\"SgmtNm\"]==\"EQUITY PUT\"]\n",
    "\n",
    "#df_Call=df_Call[(df_Call[\"Price\"]/df_Call[\"Strike\"]>1.08) & (df_Call[\"Price\"]/df_Call[\"Strike\"]<1.15)]\n",
    "#df_Put=df_Put[(df_Put[\"Price\"]/df_Put[\"Strike\"]>0.85) & (df_Put[\"Price\"]/df_Put[\"Strike\"]<0.92)]\n",
    "\n",
    "df_Put=df_Put[(df_Put[\"Price\"]/df_Put[\"Strike\"]>1.08) & (df_Put[\"Price\"]/df_Put[\"Strike\"]<1.15)]\n",
    "df_Call=df_Call[(df_Call[\"Price\"]/df_Call[\"Strike\"]>0.85) & (df_Call[\"Price\"]/df_Call[\"Strike\"]<0.92)]\n",
    "\n",
    "df_2p2c=df_Call.append(df_Put)\n",
    "df_2p2c[\"MinPric\"]=\"\"\n",
    "df_2p2c.rename(columns={\"MinPric\": \"IQ\"}, inplace=True)"
   ]
  },
  {
   "cell_type": "code",
   "execution_count": 69,
   "metadata": {},
   "outputs": [],
   "source": [
    "try:\n",
    "    for j in df_2p2c.TckrSymb:\n",
    "        df_2p2c.loc[df_2p2c.loc[df_2p2c['TckrSymb']==j].index.values,'IQ'] = df_iq.loc[df_iq[\"Papel\"]==j].IQ.values[0]\n",
    "except:\n",
    "    pass\n",
    "    \n",
    "new_df1=df_2p2c[[\"Ticker\",\"TckrSymb\",\"SgmtNm\",\"Tipo\",\"Validade\",\"TradQty\",\"FinInstrmQty\",\"Strike\",\"Price\",\"IQ\"]]\n",
    "new_df1=new_df1.reset_index()\n",
    "new_df1=new_df1.drop(['index'], axis=1)\n",
    "new_df1[\"Validade\"] = pd.to_datetime(new_df1[\"Validade\"])\n",
    "new_df1[\"Days\"] = new_df1[\"Validade\"].apply(lambda x: x - pd.datetime.today())\n",
    "new_df1[\"Days\"] = new_df1[\"Days\"].apply(lambda x: x.days)\n",
    "new_df1[\"TradQty\"]=new_df1[\"TradQty\"].astype(int)\n",
    "new_df1 = new_df1[new_df1[\"TradQty\"]>3]\n",
    "new_df1 = new_df1[[\"Ticker\",\"TckrSymb\",\"SgmtNm\",\"Validade\",\"Tipo\",\"Days\",\"Strike\",\"IQ\"]]\n",
    "new_df1[\"Ticker1\"] = new_df1[\"Ticker\"].apply(lambda x: \"=@BULLDDE|MOFV!\"+x)\n",
    "new_df1[\"TckrSymb1\"] = new_df1[\"TckrSymb\"].apply(lambda x: \"=@BULLDDE|MOFC!\"+x)\n",
    "new_df1['IQ'] = [x.replace(',', '.') for x in new_df1['IQ']]\n",
    "new_df1.to_csv(\"Options_V3.csv\")"
   ]
  },
  {
   "cell_type": "code",
   "execution_count": 32,
   "metadata": {},
   "outputs": [],
   "source": []
  },
  {
   "cell_type": "code",
   "execution_count": 68,
   "metadata": {},
   "outputs": [
    {
     "data": {
      "text/plain": [
       "(58, 10)"
      ]
     },
     "execution_count": 68,
     "metadata": {},
     "output_type": "execute_result"
    }
   ],
   "source": []
  },
  {
   "cell_type": "code",
   "execution_count": null,
   "metadata": {},
   "outputs": [],
   "source": []
  },
  {
   "cell_type": "code",
   "execution_count": null,
   "metadata": {},
   "outputs": [],
   "source": []
  },
  {
   "cell_type": "code",
   "execution_count": null,
   "metadata": {},
   "outputs": [],
   "source": []
  },
  {
   "cell_type": "code",
   "execution_count": 48,
   "metadata": {},
   "outputs": [],
   "source": []
  },
  {
   "cell_type": "code",
   "execution_count": null,
   "metadata": {},
   "outputs": [],
   "source": []
  },
  {
   "cell_type": "code",
   "execution_count": null,
   "metadata": {},
   "outputs": [],
   "source": []
  }
 ],
 "metadata": {
  "kernelspec": {
   "display_name": "Python 3",
   "language": "python",
   "name": "python3"
  },
  "language_info": {
   "codemirror_mode": {
    "name": "ipython",
    "version": 3
   },
   "file_extension": ".py",
   "mimetype": "text/x-python",
   "name": "python",
   "nbconvert_exporter": "python",
   "pygments_lexer": "ipython3",
   "version": "3.7.4"
  }
 },
 "nbformat": 4,
 "nbformat_minor": 2
}
