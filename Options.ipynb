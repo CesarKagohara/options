{
 "cells": [
  {
   "cell_type": "code",
   "execution_count": null,
   "metadata": {},
   "outputs": [],
   "source": [
    "import pandas as pd\n",
    "import requests\n",
    "import json\n",
    "import numpy as np\n",
    "from datetime import date\n",
    "from pandas.tseries.offsets import BDay"
   ]
  },
  {
   "cell_type": "code",
   "execution_count": null,
   "metadata": {},
   "outputs": [],
   "source": [
    "resp = requests.get(url='http://cotacoes.economia.uol.com.br/ws/asset/stock/list')\n",
    "all_stocks = resp.json()['data']\n",
    "\n",
    "def get_stock_id(code):\n",
    "    \"\"\" Get the stock id using its code \"\"\"\n",
    "    for stock in all_stocks:\n",
    "        if stock['code'] == '%s.SA' % code:\n",
    "            return stock['idt']\n",
    "    raise Exception('invalid code %s' % code)\n",
    "    \n",
    "def get_stock_line(code):\n",
    "    \"\"\" Returns the printable version of a stock, showing its current price and daily variation \"\"\"\n",
    "    id = get_stock_id(code)\n",
    "    url = 'http://cotacoes.economia.uol.com.br/ws/asset/%d/intraday' % id\n",
    "    resp = requests.get(url=url)\n",
    "    data = resp.json()\n",
    "    current = data['data'][0]['price']\n",
    "    return current\n",
    "\n",
    "token = 'https://arquivos.b3.com.br/api/download/requestname?fileName=InstrumentsConsolidated&date={}&recaptchaToken='.format(date.today().strftime(\"%Y-%m-%d\"))\n",
    "#token = 'https://arquivos.b3.com.br/api/download/requestname?fileName=InstrumentsConsolidated&date=2020-06-26&recaptchaToken='\n",
    "r = requests.get(token)\n",
    "vJson = json.loads(r.content)\n",
    "vJson['token']\n",
    "optionList = 'https://arquivos.b3.com.br/api/download/?token={}'.format(vJson['token'])\n",
    "r1 = requests.get(optionList)\n",
    "\n",
    "data = r1.content.decode(\"ISO-8859-1\").splitlines()\n",
    "df = pd.DataFrame(data) \n",
    "df1=df.copy()\n",
    "df1.dropna(inplace = True) \n",
    "df1 = df1.applymap(str)\n",
    "df1 = pd.DataFrame(df1)\n",
    "df1 = df1[0].str.split(\";\", n = 100, expand = True)\n",
    "df1.columns = df1.iloc[0]\n",
    "df1 = df1[1:]\n",
    "df1 = df1.reset_index()\n",
    "df1.drop(\"index\", axis = 1, inplace=True)\n",
    "\n",
    "df2 = df1[[\"TckrSymb\", \"Asst\", \"SgmtNm\", \"SctyCtgyNm\", \"XprtnDt\", \"TradgEndDt\", \"OptnTp\", \"ExrcPric\", \"OptnStyle\"]]\n",
    "df2 = df2[df2['SctyCtgyNm']=='OPTION ON EQUITIES']\n",
    "df2['ExrcPric'] = [x.replace(',', '.') for x in df2['ExrcPric']]\n",
    "df2['ExrcPric'] = df2['ExrcPric'].astype(float)\n",
    "\n",
    "lastBD = pd.datetime.today() - BDay(1)\n",
    "lastBD = lastBD.strftime(\"%Y-%m-%d\")\n",
    "token = 'https://arquivos.b3.com.br/api/download/requestname?fileName=TradeInformationConsolidated&date={}'.format(lastBD)\n",
    "#token = 'https://arquivos.b3.com.br/api/download/requestname?fileName=InstrumentsConsolidated&date=2020-06-26&recaptchaToken='\n",
    "r = requests.get(token)\n",
    "vJson = json.loads(r.content)\n",
    "vJson['token']\n",
    "optionList = 'https://arquivos.b3.com.br/api/download/?token={}'.format(vJson['token'])\n",
    "r1 = requests.get(optionList)\n",
    "\n",
    "data1 = r1.content.decode(\"ISO-8859-1\").splitlines()\n",
    "dfRaw2 = pd.DataFrame(data1) \n",
    "df_trade=dfRaw2.copy()\n",
    "df_trade.dropna(inplace = True) \n",
    "df_trade = df_trade.applymap(str)\n",
    "df_trade = pd.DataFrame(df_trade)\n",
    "df_trade = df_trade[0].str.split(\";\", n = 100, expand = True)\n",
    "df_trade.columns = df_trade.iloc[0]\n",
    "df_trade = df_trade[1:]\n",
    "df_trade = df_trade.reset_index()\n",
    "df_trade.drop(\"index\", axis = 1, inplace=True)\n",
    "df_trade = df_trade[(df_trade['SgmtNm']=='EQUITY PUT') | (df_trade['SgmtNm']=='EQUITY CALL')]\n",
    "df_trade=df_trade[(df_trade['TradQty']!='')]\n",
    "df_trade[\"Strike\"]=0.0\n",
    "df_trade[\"Ticker\"]=\"\"\n",
    "df_trade[\"Validade\"]=\"\"\n",
    "df_trade[\"Tipo\"]=\"\"\n",
    "df_trade[\"Price\"] = 0.0\n",
    "\n",
    "for i in df_trade.TckrSymb:\n",
    "    try:\n",
    "        df_trade.ix[df_trade.loc[df_trade['TckrSymb']==i].index.values[0],'Strike'] = df2.loc[df2[\"TckrSymb\"]==i].ExrcPric.values[0]\n",
    "        df_trade.ix[df_trade.loc[df_trade['TckrSymb']==i].index.values[0],'Ticker'] = df2.loc[df2[\"TckrSymb\"]==i].Asst.values[0]\n",
    "        df_trade.ix[df_trade.loc[df_trade['TckrSymb']==i].index.values[0],'Validade'] = df2.loc[df2[\"TckrSymb\"]==i].XprtnDt.values[0]\n",
    "        df_trade.ix[df_trade.loc[df_trade['TckrSymb']==i].index.values[0],'Tipo'] = df2.loc[df2[\"TckrSymb\"]==i].OptnStyle.values[0]\n",
    "    except:\n",
    "        pass\n",
    "        \n",
    "        \n",
    "df_List = df_trade[['Ticker','Tipo','SgmtNm','TckrSymb','Validade','Strike','TradQty']]\n",
    "df_List=df_List[df_List[\"Ticker\"]!=\"\"]\n",
    "#vTopacoes=['ABEV3','B3SA3','BBAS3','BBDC4','BBSE3','BRKM5','BTOW3','COGN3','EGIE3','ENBR3','EVEN3','EZTC3','FLRY3','GGBR4','GNDI3','GOAU4','GRND3','GUAR3','HAPV3','HGTX3','ITSA4','ITUB4','LAME3','LAME4','LCAM3','LOGN3','LREN3','MDIA3','MGLU3','MULT3','NTCO3','ODPV3','PCAR3','PETR4','PRIO3','QUAL3','RADL3','RAIL3','RENT3','SANB11','SAPR11','SBSP3','SMTO3','STBP3','SULA11','SUZB3','TIMP3','TOTS3','VALE3','VIVT4','VVAR3','WEGE3','YDUQ3']\n",
    "vTopacoes=['PETR4','VALE3','BOVA11','COGN3','BBDC4','VVAR3','ITUB4','CIEL3','IRBR3','BBAS3','ITSA4','ABEV3','USIM5','GGBR4','CSNA3','B3SA3','JBSS3','CMIG4','SUZB3','MRFG3','BRML3','CYRE3']\n",
    "\n",
    "\n",
    "vTopacoes = pd.DataFrame(vTopacoes)\n",
    "df_List[\"Filtro\"]=df_List.Ticker.isin(vTopacoes[0]).astype(int)\n",
    "\n",
    "df_List=df_List[df_List[\"Filtro\"]==1]\n",
    "df_List.drop(\"Filtro\", axis = 1, inplace=True)\n",
    "\n",
    "vTopacoes[\"Atual\"] = \"\"\n",
    "for i in vTopacoes[0]:\n",
    "    vTopacoes.ix[vTopacoes.loc[vTopacoes[0]==i].index.values[0],'Atual'] = get_stock_line(i)\n",
    "\n",
    "for i in df_trade.Ticker:\n",
    "    try:\n",
    "        df_trade.ix[df_trade.loc[df_trade['Ticker']==i].index.values,'Price'] = vTopacoes.loc[vTopacoes[0]==i].Atual.values[0]\n",
    "        #df_trade.ix[df_trade.loc[df_trade['Ticker']==i].index.values[0],'Price'] = vTopacoes.loc[vTopacoes[0]==i].Atual.values[0]\n",
    "    except:\n",
    "        pass\n",
    "    \n",
    "df_List.to_csv(\"opcoes.csv\")"
   ]
  },
  {
   "cell_type": "code",
   "execution_count": null,
   "metadata": {},
   "outputs": [],
   "source": [
    "C:\\Users\\kiyo_\\OneDrive\\Documentos\\Macro.xlsm"
   ]
  },
  {
   "cell_type": "code",
   "execution_count": null,
   "metadata": {},
   "outputs": [],
   "source": [
    "df_List.to_excel(r'C:\\Users\\kiyo_\\OneDrive\\Documentos\\Macro.xlsm',sheet_name='options')"
   ]
  },
  {
   "cell_type": "code",
   "execution_count": 2,
   "metadata": {},
   "outputs": [
    {
     "ename": "KeyError",
     "evalue": "\"There is no item named 'xl/externalLinks/_rels/externalLink1.xml.rels' in the archive\"",
     "output_type": "error",
     "traceback": [
      "\u001b[1;31m---------------------------------------------------------------------------\u001b[0m",
      "\u001b[1;31mKeyError\u001b[0m                                  Traceback (most recent call last)",
      "\u001b[1;32m<ipython-input-2-26dc0360128c>\u001b[0m in \u001b[0;36m<module>\u001b[1;34m\u001b[0m\n\u001b[0;32m      2\u001b[0m \u001b[1;32mfrom\u001b[0m \u001b[0mopenpyxl\u001b[0m \u001b[1;32mimport\u001b[0m \u001b[0mload_workbook\u001b[0m\u001b[1;33m\u001b[0m\u001b[1;33m\u001b[0m\u001b[0m\n\u001b[0;32m      3\u001b[0m \u001b[1;33m\u001b[0m\u001b[0m\n\u001b[1;32m----> 4\u001b[1;33m \u001b[0mbook\u001b[0m \u001b[1;33m=\u001b[0m \u001b[0mload_workbook\u001b[0m\u001b[1;33m(\u001b[0m\u001b[1;34mr'C:\\Users\\kiyo_\\OneDrive\\Documentos\\Macro.xlsm'\u001b[0m\u001b[1;33m)\u001b[0m\u001b[1;33m\u001b[0m\u001b[1;33m\u001b[0m\u001b[0m\n\u001b[0m\u001b[0;32m      5\u001b[0m \u001b[0mwriter\u001b[0m \u001b[1;33m=\u001b[0m \u001b[0mpandas\u001b[0m\u001b[1;33m.\u001b[0m\u001b[0mExcelWriter\u001b[0m\u001b[1;33m(\u001b[0m\u001b[1;34mr'C:\\Users\\kiyo_\\OneDrive\\Documentos\\Macro.xlsm'\u001b[0m\u001b[1;33m,\u001b[0m \u001b[0mengine\u001b[0m\u001b[1;33m=\u001b[0m\u001b[1;34m'openpyxl'\u001b[0m\u001b[1;33m)\u001b[0m\u001b[1;33m\u001b[0m\u001b[1;33m\u001b[0m\u001b[0m\n\u001b[0;32m      6\u001b[0m \u001b[0mwriter\u001b[0m\u001b[1;33m.\u001b[0m\u001b[0mbook\u001b[0m \u001b[1;33m=\u001b[0m \u001b[0mbook\u001b[0m\u001b[1;33m\u001b[0m\u001b[1;33m\u001b[0m\u001b[0m\n",
      "\u001b[1;32m~\\Anaconda3\\lib\\site-packages\\openpyxl\\reader\\excel.py\u001b[0m in \u001b[0;36mload_workbook\u001b[1;34m(filename, read_only, keep_vba, data_only, keep_links)\u001b[0m\n\u001b[0;32m    315\u001b[0m     reader = ExcelReader(filename, read_only, keep_vba,\n\u001b[0;32m    316\u001b[0m                         data_only, keep_links)\n\u001b[1;32m--> 317\u001b[1;33m     \u001b[0mreader\u001b[0m\u001b[1;33m.\u001b[0m\u001b[0mread\u001b[0m\u001b[1;33m(\u001b[0m\u001b[1;33m)\u001b[0m\u001b[1;33m\u001b[0m\u001b[1;33m\u001b[0m\u001b[0m\n\u001b[0m\u001b[0;32m    318\u001b[0m     \u001b[1;32mreturn\u001b[0m \u001b[0mreader\u001b[0m\u001b[1;33m.\u001b[0m\u001b[0mwb\u001b[0m\u001b[1;33m\u001b[0m\u001b[1;33m\u001b[0m\u001b[0m\n",
      "\u001b[1;32m~\\Anaconda3\\lib\\site-packages\\openpyxl\\reader\\excel.py\u001b[0m in \u001b[0;36mread\u001b[1;34m(self)\u001b[0m\n\u001b[0;32m    273\u001b[0m         \u001b[0mself\u001b[0m\u001b[1;33m.\u001b[0m\u001b[0mread_manifest\u001b[0m\u001b[1;33m(\u001b[0m\u001b[1;33m)\u001b[0m\u001b[1;33m\u001b[0m\u001b[1;33m\u001b[0m\u001b[0m\n\u001b[0;32m    274\u001b[0m         \u001b[0mself\u001b[0m\u001b[1;33m.\u001b[0m\u001b[0mread_strings\u001b[0m\u001b[1;33m(\u001b[0m\u001b[1;33m)\u001b[0m\u001b[1;33m\u001b[0m\u001b[1;33m\u001b[0m\u001b[0m\n\u001b[1;32m--> 275\u001b[1;33m         \u001b[0mself\u001b[0m\u001b[1;33m.\u001b[0m\u001b[0mread_workbook\u001b[0m\u001b[1;33m(\u001b[0m\u001b[1;33m)\u001b[0m\u001b[1;33m\u001b[0m\u001b[1;33m\u001b[0m\u001b[0m\n\u001b[0m\u001b[0;32m    276\u001b[0m         \u001b[0mself\u001b[0m\u001b[1;33m.\u001b[0m\u001b[0mread_properties\u001b[0m\u001b[1;33m(\u001b[0m\u001b[1;33m)\u001b[0m\u001b[1;33m\u001b[0m\u001b[1;33m\u001b[0m\u001b[0m\n\u001b[0;32m    277\u001b[0m         \u001b[0mself\u001b[0m\u001b[1;33m.\u001b[0m\u001b[0mread_theme\u001b[0m\u001b[1;33m(\u001b[0m\u001b[1;33m)\u001b[0m\u001b[1;33m\u001b[0m\u001b[1;33m\u001b[0m\u001b[0m\n",
      "\u001b[1;32m~\\Anaconda3\\lib\\site-packages\\openpyxl\\reader\\excel.py\u001b[0m in \u001b[0;36mread_workbook\u001b[1;34m(self)\u001b[0m\n\u001b[0;32m    148\u001b[0m         \u001b[0mwb_part\u001b[0m \u001b[1;33m=\u001b[0m \u001b[0m_find_workbook_part\u001b[0m\u001b[1;33m(\u001b[0m\u001b[0mself\u001b[0m\u001b[1;33m.\u001b[0m\u001b[0mpackage\u001b[0m\u001b[1;33m)\u001b[0m\u001b[1;33m\u001b[0m\u001b[1;33m\u001b[0m\u001b[0m\n\u001b[0;32m    149\u001b[0m         \u001b[0mself\u001b[0m\u001b[1;33m.\u001b[0m\u001b[0mparser\u001b[0m \u001b[1;33m=\u001b[0m \u001b[0mWorkbookParser\u001b[0m\u001b[1;33m(\u001b[0m\u001b[0mself\u001b[0m\u001b[1;33m.\u001b[0m\u001b[0marchive\u001b[0m\u001b[1;33m,\u001b[0m \u001b[0mwb_part\u001b[0m\u001b[1;33m.\u001b[0m\u001b[0mPartName\u001b[0m\u001b[1;33m[\u001b[0m\u001b[1;36m1\u001b[0m\u001b[1;33m:\u001b[0m\u001b[1;33m]\u001b[0m\u001b[1;33m,\u001b[0m \u001b[0mkeep_links\u001b[0m\u001b[1;33m=\u001b[0m\u001b[0mself\u001b[0m\u001b[1;33m.\u001b[0m\u001b[0mkeep_links\u001b[0m\u001b[1;33m)\u001b[0m\u001b[1;33m\u001b[0m\u001b[1;33m\u001b[0m\u001b[0m\n\u001b[1;32m--> 150\u001b[1;33m         \u001b[0mself\u001b[0m\u001b[1;33m.\u001b[0m\u001b[0mparser\u001b[0m\u001b[1;33m.\u001b[0m\u001b[0mparse\u001b[0m\u001b[1;33m(\u001b[0m\u001b[1;33m)\u001b[0m\u001b[1;33m\u001b[0m\u001b[1;33m\u001b[0m\u001b[0m\n\u001b[0m\u001b[0;32m    151\u001b[0m         \u001b[0mwb\u001b[0m \u001b[1;33m=\u001b[0m \u001b[0mself\u001b[0m\u001b[1;33m.\u001b[0m\u001b[0mparser\u001b[0m\u001b[1;33m.\u001b[0m\u001b[0mwb\u001b[0m\u001b[1;33m\u001b[0m\u001b[1;33m\u001b[0m\u001b[0m\n\u001b[0;32m    152\u001b[0m         \u001b[0mwb\u001b[0m\u001b[1;33m.\u001b[0m\u001b[0m_sheets\u001b[0m \u001b[1;33m=\u001b[0m \u001b[1;33m[\u001b[0m\u001b[1;33m]\u001b[0m\u001b[1;33m\u001b[0m\u001b[1;33m\u001b[0m\u001b[0m\n",
      "\u001b[1;32m~\\Anaconda3\\lib\\site-packages\\openpyxl\\reader\\workbook.py\u001b[0m in \u001b[0;36mparse\u001b[1;34m(self)\u001b[0m\n\u001b[0;32m     65\u001b[0m             \u001b[0mrel\u001b[0m \u001b[1;33m=\u001b[0m \u001b[0mself\u001b[0m\u001b[1;33m.\u001b[0m\u001b[0mrels\u001b[0m\u001b[1;33m[\u001b[0m\u001b[0mext_ref\u001b[0m\u001b[1;33m.\u001b[0m\u001b[0mid\u001b[0m\u001b[1;33m]\u001b[0m\u001b[1;33m\u001b[0m\u001b[1;33m\u001b[0m\u001b[0m\n\u001b[0;32m     66\u001b[0m             self.wb._external_links.append(\n\u001b[1;32m---> 67\u001b[1;33m                 \u001b[0mread_external_link\u001b[0m\u001b[1;33m(\u001b[0m\u001b[0mself\u001b[0m\u001b[1;33m.\u001b[0m\u001b[0marchive\u001b[0m\u001b[1;33m,\u001b[0m \u001b[0mrel\u001b[0m\u001b[1;33m.\u001b[0m\u001b[0mTarget\u001b[0m\u001b[1;33m)\u001b[0m\u001b[1;33m\u001b[0m\u001b[1;33m\u001b[0m\u001b[0m\n\u001b[0m\u001b[0;32m     68\u001b[0m             )\n\u001b[0;32m     69\u001b[0m \u001b[1;33m\u001b[0m\u001b[0m\n",
      "\u001b[1;32m~\\Anaconda3\\lib\\site-packages\\openpyxl\\workbook\\external_link\\external.py\u001b[0m in \u001b[0;36mread_external_link\u001b[1;34m(archive, book_path)\u001b[0m\n\u001b[0;32m    185\u001b[0m \u001b[1;33m\u001b[0m\u001b[0m\n\u001b[0;32m    186\u001b[0m     \u001b[0mlink_path\u001b[0m \u001b[1;33m=\u001b[0m \u001b[0mget_rels_path\u001b[0m\u001b[1;33m(\u001b[0m\u001b[0mbook_path\u001b[0m\u001b[1;33m)\u001b[0m\u001b[1;33m\u001b[0m\u001b[1;33m\u001b[0m\u001b[0m\n\u001b[1;32m--> 187\u001b[1;33m     \u001b[0mdeps\u001b[0m \u001b[1;33m=\u001b[0m \u001b[0mget_dependents\u001b[0m\u001b[1;33m(\u001b[0m\u001b[0marchive\u001b[0m\u001b[1;33m,\u001b[0m \u001b[0mlink_path\u001b[0m\u001b[1;33m)\u001b[0m\u001b[1;33m\u001b[0m\u001b[1;33m\u001b[0m\u001b[0m\n\u001b[0m\u001b[0;32m    188\u001b[0m     \u001b[0mbook\u001b[0m\u001b[1;33m.\u001b[0m\u001b[0mfile_link\u001b[0m \u001b[1;33m=\u001b[0m \u001b[0mdeps\u001b[0m\u001b[1;33m.\u001b[0m\u001b[0mRelationship\u001b[0m\u001b[1;33m[\u001b[0m\u001b[1;36m0\u001b[0m\u001b[1;33m]\u001b[0m\u001b[1;33m\u001b[0m\u001b[1;33m\u001b[0m\u001b[0m\n\u001b[0;32m    189\u001b[0m \u001b[1;33m\u001b[0m\u001b[0m\n",
      "\u001b[1;32m~\\Anaconda3\\lib\\site-packages\\openpyxl\\packaging\\relationship.py\u001b[0m in \u001b[0;36mget_dependents\u001b[1;34m(archive, filename)\u001b[0m\n\u001b[0;32m    128\u001b[0m     \u001b[0mRelative\u001b[0m \u001b[0mpaths\u001b[0m \u001b[0mare\u001b[0m \u001b[0mrelative\u001b[0m \u001b[0mto\u001b[0m \u001b[0mparent\u001b[0m \u001b[0mobject\u001b[0m\u001b[1;33m\u001b[0m\u001b[1;33m\u001b[0m\u001b[0m\n\u001b[0;32m    129\u001b[0m     \"\"\"\n\u001b[1;32m--> 130\u001b[1;33m     \u001b[0msrc\u001b[0m \u001b[1;33m=\u001b[0m \u001b[0marchive\u001b[0m\u001b[1;33m.\u001b[0m\u001b[0mread\u001b[0m\u001b[1;33m(\u001b[0m\u001b[0mfilename\u001b[0m\u001b[1;33m)\u001b[0m\u001b[1;33m\u001b[0m\u001b[1;33m\u001b[0m\u001b[0m\n\u001b[0m\u001b[0;32m    131\u001b[0m     \u001b[0mnode\u001b[0m \u001b[1;33m=\u001b[0m \u001b[0mfromstring\u001b[0m\u001b[1;33m(\u001b[0m\u001b[0msrc\u001b[0m\u001b[1;33m)\u001b[0m\u001b[1;33m\u001b[0m\u001b[1;33m\u001b[0m\u001b[0m\n\u001b[0;32m    132\u001b[0m     \u001b[1;32mtry\u001b[0m\u001b[1;33m:\u001b[0m\u001b[1;33m\u001b[0m\u001b[1;33m\u001b[0m\u001b[0m\n",
      "\u001b[1;32m~\\Anaconda3\\lib\\zipfile.py\u001b[0m in \u001b[0;36mread\u001b[1;34m(self, name, pwd)\u001b[0m\n\u001b[0;32m   1429\u001b[0m     \u001b[1;32mdef\u001b[0m \u001b[0mread\u001b[0m\u001b[1;33m(\u001b[0m\u001b[0mself\u001b[0m\u001b[1;33m,\u001b[0m \u001b[0mname\u001b[0m\u001b[1;33m,\u001b[0m \u001b[0mpwd\u001b[0m\u001b[1;33m=\u001b[0m\u001b[1;32mNone\u001b[0m\u001b[1;33m)\u001b[0m\u001b[1;33m:\u001b[0m\u001b[1;33m\u001b[0m\u001b[1;33m\u001b[0m\u001b[0m\n\u001b[0;32m   1430\u001b[0m         \u001b[1;34m\"\"\"Return file bytes for name.\"\"\"\u001b[0m\u001b[1;33m\u001b[0m\u001b[1;33m\u001b[0m\u001b[0m\n\u001b[1;32m-> 1431\u001b[1;33m         \u001b[1;32mwith\u001b[0m \u001b[0mself\u001b[0m\u001b[1;33m.\u001b[0m\u001b[0mopen\u001b[0m\u001b[1;33m(\u001b[0m\u001b[0mname\u001b[0m\u001b[1;33m,\u001b[0m \u001b[1;34m\"r\"\u001b[0m\u001b[1;33m,\u001b[0m \u001b[0mpwd\u001b[0m\u001b[1;33m)\u001b[0m \u001b[1;32mas\u001b[0m \u001b[0mfp\u001b[0m\u001b[1;33m:\u001b[0m\u001b[1;33m\u001b[0m\u001b[1;33m\u001b[0m\u001b[0m\n\u001b[0m\u001b[0;32m   1432\u001b[0m             \u001b[1;32mreturn\u001b[0m \u001b[0mfp\u001b[0m\u001b[1;33m.\u001b[0m\u001b[0mread\u001b[0m\u001b[1;33m(\u001b[0m\u001b[1;33m)\u001b[0m\u001b[1;33m\u001b[0m\u001b[1;33m\u001b[0m\u001b[0m\n\u001b[0;32m   1433\u001b[0m \u001b[1;33m\u001b[0m\u001b[0m\n",
      "\u001b[1;32m~\\Anaconda3\\lib\\zipfile.py\u001b[0m in \u001b[0;36mopen\u001b[1;34m(self, name, mode, pwd, force_zip64)\u001b[0m\n\u001b[0;32m   1468\u001b[0m         \u001b[1;32melse\u001b[0m\u001b[1;33m:\u001b[0m\u001b[1;33m\u001b[0m\u001b[1;33m\u001b[0m\u001b[0m\n\u001b[0;32m   1469\u001b[0m             \u001b[1;31m# Get info object for name\u001b[0m\u001b[1;33m\u001b[0m\u001b[1;33m\u001b[0m\u001b[1;33m\u001b[0m\u001b[0m\n\u001b[1;32m-> 1470\u001b[1;33m             \u001b[0mzinfo\u001b[0m \u001b[1;33m=\u001b[0m \u001b[0mself\u001b[0m\u001b[1;33m.\u001b[0m\u001b[0mgetinfo\u001b[0m\u001b[1;33m(\u001b[0m\u001b[0mname\u001b[0m\u001b[1;33m)\u001b[0m\u001b[1;33m\u001b[0m\u001b[1;33m\u001b[0m\u001b[0m\n\u001b[0m\u001b[0;32m   1471\u001b[0m \u001b[1;33m\u001b[0m\u001b[0m\n\u001b[0;32m   1472\u001b[0m         \u001b[1;32mif\u001b[0m \u001b[0mmode\u001b[0m \u001b[1;33m==\u001b[0m \u001b[1;34m'w'\u001b[0m\u001b[1;33m:\u001b[0m\u001b[1;33m\u001b[0m\u001b[1;33m\u001b[0m\u001b[0m\n",
      "\u001b[1;32m~\\Anaconda3\\lib\\zipfile.py\u001b[0m in \u001b[0;36mgetinfo\u001b[1;34m(self, name)\u001b[0m\n\u001b[0;32m   1396\u001b[0m         \u001b[1;32mif\u001b[0m \u001b[0minfo\u001b[0m \u001b[1;32mis\u001b[0m \u001b[1;32mNone\u001b[0m\u001b[1;33m:\u001b[0m\u001b[1;33m\u001b[0m\u001b[1;33m\u001b[0m\u001b[0m\n\u001b[0;32m   1397\u001b[0m             raise KeyError(\n\u001b[1;32m-> 1398\u001b[1;33m                 'There is no item named %r in the archive' % name)\n\u001b[0m\u001b[0;32m   1399\u001b[0m \u001b[1;33m\u001b[0m\u001b[0m\n\u001b[0;32m   1400\u001b[0m         \u001b[1;32mreturn\u001b[0m \u001b[0minfo\u001b[0m\u001b[1;33m\u001b[0m\u001b[1;33m\u001b[0m\u001b[0m\n",
      "\u001b[1;31mKeyError\u001b[0m: \"There is no item named 'xl/externalLinks/_rels/externalLink1.xml.rels' in the archive\""
     ]
    }
   ],
   "source": [
    "import pandas\n",
    "from openpyxl import load_workbook\n",
    "\n",
    "book = load_workbook(r'C:\\Users\\kiyo_\\OneDrive\\Documentos\\Macro.xlsm')\n",
    "writer = pandas.ExcelWriter(r'C:\\Users\\kiyo_\\OneDrive\\Documentos\\Macro.xlsm', engine='openpyxl') \n",
    "writer.book = book\n",
    "\n",
    "## ExcelWriter for some reason uses writer.sheets to access the sheet.\n",
    "## If you leave it empty it will not know that sheet Main is already there\n",
    "## and will create a new sheet.\n"
   ]
  },
  {
   "cell_type": "code",
   "execution_count": null,
   "metadata": {},
   "outputs": [],
   "source": []
  },
  {
   "cell_type": "code",
   "execution_count": null,
   "metadata": {},
   "outputs": [],
   "source": []
  },
  {
   "cell_type": "code",
   "execution_count": null,
   "metadata": {},
   "outputs": [],
   "source": [
    "\n",
    "writer.sheets = dict((ws.title, ws) for ws in book.worksheets)\n",
    "\n",
    "data_filtered.to_excel(writer, \"Main\", cols=['Diff1', 'Diff2'])\n",
    "\n",
    "writer.save()"
   ]
  },
  {
   "cell_type": "code",
   "execution_count": null,
   "metadata": {},
   "outputs": [],
   "source": []
  },
  {
   "cell_type": "code",
   "execution_count": null,
   "metadata": {},
   "outputs": [],
   "source": []
  }
 ],
 "metadata": {
  "kernelspec": {
   "display_name": "Python 3",
   "language": "python",
   "name": "python3"
  },
  "language_info": {
   "codemirror_mode": {
    "name": "ipython",
    "version": 3
   },
   "file_extension": ".py",
   "mimetype": "text/x-python",
   "name": "python",
   "nbconvert_exporter": "python",
   "pygments_lexer": "ipython3",
   "version": "3.7.4"
  }
 },
 "nbformat": 4,
 "nbformat_minor": 2
}
